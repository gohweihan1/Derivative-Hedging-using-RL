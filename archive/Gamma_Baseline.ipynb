{
 "cells": [
  {
   "cell_type": "markdown",
   "metadata": {},
   "source": [
    "## Imports"
   ]
  },
  {
   "cell_type": "code",
   "execution_count": 13,
   "metadata": {},
   "outputs": [],
   "source": [
    "import numpy as np\n",
    "import pandas as pd\n",
    "from pandas_datareader import data as pdr\n",
    "import random\n",
    "import seaborn as sns\n",
    "from IPython.display import display\n",
    "import matplotlib.pyplot as plt\n",
    "# from matplotlib import animation\n",
    "# from JSAnimation.IPython_display import display_animation\n",
    "# import gym\n",
    "import scipy.stats as stats\n",
    "from scipy.stats import norm\n",
    "from collections import namedtuple\n",
    "import statistics\n",
    "import time\n",
    "import os\n",
    "from collections import deque\n",
    "%matplotlib inline\n",
    "\n",
    "import pickle\n",
    "\n",
    "import import_ipynb\n",
    "import Generate_Data\n",
    "import Environment"
   ]
  },
  {
   "cell_type": "markdown",
   "metadata": {},
   "source": [
    "## Defining Model Classes\n",
    "- Environment: Manages the trading environment, simulating the market dynamics, state transitions, and reward calculations based on stock and option data.\n",
    "\n",
    "- ReplayMemory: Implements an experience replay memory to store and retrieve agent experiences for training.\n",
    "\n",
    "- AgentActionValueBase: Acts as the interface for the agent, enabling it to select actions, store experiences, and update its decision-making process.\n",
    "\n",
    "- BrainGamma: Provides decision-making logic for gamma hedging, where actions are taken to minimize gamma exposure."
   ]
  },
  {
   "cell_type": "code",
   "execution_count": 14,
   "metadata": {},
   "outputs": [],
   "source": [
    "class ReplayMemory:\n",
    "    def __init__(self, capacity=10000):\n",
    "        self.memory = deque(maxlen=capacity)\n",
    "    \n",
    "    def push(self, state, action, state_next, reward):\n",
    "        self.memory.append((state, action, state_next, reward))\n",
    "    \n",
    "    def sample(self, batch_size):\n",
    "        return random.sample(self.memory, batch_size)\n",
    "    \n",
    "    def __len__(self):\n",
    "        return len(self.memory)"
   ]
  },
  {
   "cell_type": "code",
   "execution_count": 15,
   "metadata": {},
   "outputs": [],
   "source": [
    "class AgentActionValueBase:\n",
    "    \n",
    "    def __init__(self, brain):\n",
    "        self.brain = brain\n",
    "    \n",
    "    def update_agent(self):\n",
    "        self.brain.replay()\n",
    "    \n",
    "    def get_action(self, state, step=None, episode=None):\n",
    "        action = self.brain.decide_action(state, episode)\n",
    "        return action\n",
    "    \n",
    "    def memorize(self, state, action, state_next, reward):\n",
    "        self.brain.memory.push(state, action, state_next, reward)"
   ]
  },
  {
   "cell_type": "code",
   "execution_count": 16,
   "metadata": {},
   "outputs": [],
   "source": [
    "class BrainGamma:\n",
    "    \n",
    "    def __init__(self, num_states, num_actions, is_rounded=True, capacity=10000):\n",
    "        \"\"\"\n",
    "        BrainDelta is responsible for the decision-making process of the agent.\n",
    "        \n",
    "        Parameters:\n",
    "        - num_states: The dimensionality of the state space.\n",
    "        - num_actions: The number of possible actions the agent can take.\n",
    "        - is_rounded: Whether the actions should be rounded (discrete actions).\n",
    "        - capacity: The capacity of the replay memory.\n",
    "        \"\"\"\n",
    "        self.num_states = num_states\n",
    "        self.num_actions = num_actions\n",
    "        self.is_rounded = is_rounded\n",
    "        self.memory = ReplayMemory(capacity)  # Experience replay memory\n",
    "\n",
    "    def replay(self, batch_size=32):\n",
    "        return\n",
    "\n",
    "    def decide_action(self, state, episode=None, epsilon=0.1):\n",
    "        gamma = state[4]\n",
    "        \n",
    "        # Perform gamma hedging by adjusting shares based on gamma\n",
    "        # If is_rounded is True, round the action to the nearest integer\n",
    "        action = -gamma  # In gamma hedging, you may aim to counteract gamma directly\n",
    "        \n",
    "        if self.is_rounded:\n",
    "            action = np.round(action)\n",
    "        \n",
    "        return action"
   ]
  },
  {
   "cell_type": "markdown",
   "metadata": {},
   "source": [
    "## Model Training"
   ]
  },
  {
   "cell_type": "code",
   "execution_count": 17,
   "metadata": {},
   "outputs": [],
   "source": [
    "def train_agent(env, agent, num_episodes=1000, num_steps=30, gamma=0.99):\n",
    "    \"\"\"\n",
    "    Trains the agent in the given environment.\n",
    "\n",
    "    Parameters:\n",
    "    - env: The trading environment (DeltaHedgingEnv).\n",
    "    - agent: The RL agent (AgentActionValueBase).\n",
    "    - num_episodes: The number of training episodes.\n",
    "    - num_steps: The number of steps per episode.\n",
    "    - gamma: Discount factor for future rewards.\n",
    "\n",
    "    Returns:\n",
    "    - pl_history: A list containing the P&L history for each episode.\n",
    "    - reward_history: A list containing the cumulative reward history for each episode.\n",
    "    \"\"\"\n",
    "    \n",
    "    pl_history = []  # Profit and loss history for each episode\n",
    "    reward_history = []  # Total reward history for each episode\n",
    "    std_pl_history = []  # Standard deviation of P&L for each episode ; added this \n",
    "\n",
    "    last_30_pl = []\n",
    "    \n",
    "    for episode in range(num_episodes):\n",
    "        state = env.reset()  # Reset the environment and get the initial state\n",
    "        total_reward = 0  # Track total reward for the episode\n",
    "        pl_episode = []  # Track portfolio value (P&L) for the episode\n",
    "\n",
    "        for step in range(num_steps):\n",
    "            # Agent takes an action based on the current state\n",
    "            action = agent.get_action(state, step=step, episode=episode)\n",
    "            \n",
    "            # Environment returns the next state, reward, and whether the episode is done\n",
    "            next_state, reward, done, pv = env.step(action)\n",
    "            \n",
    "            # Accumulate total reward, discounted by gamma (for future rewards)\n",
    "            total_reward += reward * (gamma ** step)\n",
    "            \n",
    "            # Store the portfolio value (P&L) for the step\n",
    "            pl_episode.append(pv)\n",
    "            \n",
    "            # Memorize the experience\n",
    "            agent.memorize(state, action, next_state, reward)\n",
    "            \n",
    "            # Update the agent\n",
    "            agent.update_agent()\n",
    "\n",
    "            # Move to the next state\n",
    "            state = next_state\n",
    "            \n",
    "            # If the episode is done, break out of the loop\n",
    "            if done:\n",
    "                break\n",
    "        \n",
    "        # At the end of the episode, calculate the total P&L and reward\n",
    "        pl_total = sum(pl_episode)\n",
    "        pl_history.append(pl_total)\n",
    "        reward_history.append(total_reward)\n",
    "        #std_pl_history.append(np.std(pl_episode))\n",
    "\n",
    "        last_30_pl.append(pl_total)\n",
    "        if len(last_30_pl) > 30:\n",
    "            last_30_pl.pop(0)\n",
    "\n",
    "        if episode >= 30:\n",
    "            std = np.std(last_30_pl)\n",
    "            std_pl_history.append(std)\n",
    "        else:\n",
    "            std_pl_history.append(np.nan)\n",
    "\n",
    "        # if episode % 30 == 0 and episode != 0:\n",
    "        #     std_pl_history.append(np.std(pl_episode[-30:]))  # Compute std dev of P&L for the episode # added this\n",
    "        \n",
    "        # Print progress every 100 episodes\n",
    "        if episode % 100 == 0:\n",
    "            print(f\"Episode {episode}/{num_episodes}, Total Reward: {total_reward}, P&L: {pl_total}, Std Dev P&L: {std_pl_history[-1:]}\") # added std dev part\n",
    "    \n",
    "    return pl_history, reward_history, std_pl_history # added std dev"
   ]
  },
  {
   "cell_type": "code",
   "execution_count": 18,
   "metadata": {},
   "outputs": [
    {
     "name": "stdout",
     "output_type": "stream",
     "text": [
      "Episode 0/1000, Total Reward: 0.0, P&L: 15.367317199707031\n",
      "Episode 100/1000, Total Reward: 0.0, P&L: -5.452919006347656\n",
      "Episode 200/1000, Total Reward: 0.0, P&L: 29.66747283935547\n",
      "Episode 300/1000, Total Reward: 0.0, P&L: -13.710784912109375\n",
      "Episode 400/1000, Total Reward: 0.0, P&L: 3.9585113525390625\n",
      "Episode 500/1000, Total Reward: 0.0, P&L: 13.211631774902344\n",
      "Episode 600/1000, Total Reward: 0.0, P&L: 12.3382568359375\n",
      "Episode 700/1000, Total Reward: 0.0, P&L: -113.06915283203125\n",
      "Episode 800/1000, Total Reward: 0.0, P&L: 91.6961669921875\n",
      "Episode 900/1000, Total Reward: 0.0, P&L: 28.39508056640625\n"
     ]
    },
    {
     "data": {
      "image/png": "[encoded data removed]",
      "text/plain": [
       "<Figure size 864x432 with 1 Axes>"
      ]
     },
     "metadata": {
      "needs_background": "light"
     },
     "output_type": "display_data"
    },
    {
     "data": {
      "image/png": "[encoded data removed]",
      "text/plain": [
       "<Figure size 720x432 with 1 Axes>"
      ]
     },
     "metadata": {
      "needs_background": "light"
     },
     "output_type": "display_data"
    }
   ],
   "source": [
    "##Getting train datasets\n",
    "features_train = Generate_Data.features_train\n",
    "df_stock_train = Generate_Data.df_stock_train\n",
    "call_options_train = Generate_Data.call_options_train\n",
    "\n",
    "\n",
    "# Set up your environment with real AAPL stock and option data\n",
    "env_train = Environment.Environment(\n",
    "    stock_data=df_stock_train,\n",
    "    option_data=call_options_train,\n",
    "    features_data=features_train,\n",
    "    T=30,\n",
    "    n_steps=30,\n",
    "    num_sold_opt=100,\n",
    "    kappa=0.1,\n",
    "    alpha=0.001\n",
    ")\n",
    "num_states = env_train.num_states\n",
    "num_actions = env_train.num_actions\n",
    "\n",
    "# Initialize the agent's brain\n",
    "brain = BrainGamma(num_states, num_actions)\n",
    "\n",
    "# Initialize the agent\n",
    "gamma_agent = AgentActionValueBase(brain)\n",
    "\n",
    "# Train the agent\n",
    "pl_history, reward_history, std_pl = train_agent(env_train, gamma_agent, num_episodes=1000, num_steps=30)\n",
    "\n",
    "plt.figure(figsize=(12, 6))\n",
    "\n",
    "# Plot P&L history\n",
    "plt.subplot(1, 2, 1)\n",
    "plt.plot(pl_history)\n",
    "plt.title(\"P&L History\")\n",
    "plt.xlabel(\"Episode\")\n",
    "plt.ylabel(\"P&L\")\n",
    "\n",
    "# Plot histogram\n",
    "plt.figure(figsize=(10, 6))\n",
    "sns.histplot(pl_history, kde=False, bins=30, label=\"Profit and Loss\", alpha=0.6)\n",
    "\n",
    "plt.axvline(0, color='k', linestyle='--')  # Mark zero for reference\n",
    "plt.xlabel(\"Profit and Loss\")\n",
    "plt.ylabel(\"Frequency / Density\")\n",
    "plt.title(\"Histogram with KDE of Profit and Loss\")\n",
    "plt.legend()\n",
    "plt.show()\n",
    "\n",
    "plt.show()"
   ]
  },
  {
   "cell_type": "code",
   "execution_count": 12,
   "metadata": {},
   "outputs": [],
   "source": [
    "# Save the trained agent and brain\n",
    "with open(\"models/trained_gamma_agent.pkl\", \"wb\") as f:\n",
    "    pickle.dump(gamma_agent, f)\n"
   ]
  }
 ],
 "metadata": {
  "kernelspec": {
   "display_name": "base",
   "language": "python",
   "name": "python3"
  },
  "language_info": {
   "codemirror_mode": {
    "name": "ipython",
    "version": 3
   },
   "file_extension": ".py",
   "mimetype": "text/x-python",
   "name": "python",
   "nbconvert_exporter": "python",
   "pygments_lexer": "ipython3",
   "version": "3.9.12"
  }
 },
 "nbformat": 4,
 "nbformat_minor": 2
}
