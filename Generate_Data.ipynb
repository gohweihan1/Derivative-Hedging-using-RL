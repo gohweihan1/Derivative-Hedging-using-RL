{
 "cells": [
  {
   "cell_type": "markdown",
   "metadata": {},
   "source": [
    "## Imports"
   ]
  },
  {
   "cell_type": "code",
   "execution_count": 15,
   "metadata": {},
   "outputs": [],
   "source": [
    "import numpy as np\n",
    "import pandas as pd\n",
    "from pandas_datareader import data as pdr\n",
    "import random\n",
    "import seaborn as sns\n",
    "from IPython.display import display\n",
    "import matplotlib.pyplot as plt\n",
    "# from matplotlib import animation\n",
    "# from JSAnimation.IPython_display import display_animation\n",
    "# import gym\n",
    "import scipy.stats as stats\n",
    "from scipy.stats import norm\n",
    "from collections import namedtuple\n",
    "import statistics\n",
    "import time\n",
    "import os\n",
    "from collections import deque\n",
    "%matplotlib inline\n",
    "\n",
    "import torch\n",
    "import torch.nn as nn\n",
    "import torch.optim as optim\n",
    "from collections import deque\n",
    "\n",
    "import yfinance as yf\n",
    "import datetime as dt\n",
    "\n",
    "import pickle"
   ]
  },
  {
   "cell_type": "markdown",
   "metadata": {},
   "source": [
    "## Classes\n",
    "- To do feature engineering\n",
    "- To simulate options data"
   ]
  },
  {
   "cell_type": "code",
   "execution_count": 28,
   "metadata": {},
   "outputs": [],
   "source": [
    "def calculate_rsi(series, period=2):\n",
    "    delta = series.diff()\n",
    "    gain = delta.where(delta > 0, 0).rolling(window=period).mean()\n",
    "    loss = -delta.where(delta < 0, 0).rolling(window=period).mean()\n",
    "    RS = gain / loss.replace(0, 1e-8)  # Prevent division by zero\n",
    "    RSI = 100 - (100 / (1 + RS))\n",
    "    return RSI\n",
    "\n",
    "def MA(series, n):\n",
    "    return series.rolling(window=n).mean()\n",
    "\n",
    "def EMA(series, n):\n",
    "    return series.ewm(span=n, min_periods=n).mean()\n",
    "\n",
    "def ROC(series, n):\n",
    "    diff = series.diff(n)\n",
    "    shifted = series.shift(n)\n",
    "    roc = diff / shifted\n",
    "    return roc\n",
    "\n",
    "def MOM(series, n):\n",
    "    return series.diff(n)\n",
    "\n",
    "def STOK(close, low, high, n):\n",
    "    lowest_low = low.rolling(window=n).min()\n",
    "    highest_high = high.rolling(window=n).max()\n",
    "    stok = ((close - lowest_low) / (highest_high - lowest_low)) * 100\n",
    "    return stok\n",
    "\n",
    "def STOD(close, low, high, n):\n",
    "    stok = STOK(close, low, high, n)\n",
    "    stod = stok.rolling(window=3).mean()  # Using a window of 3 for smoothing\n",
    "    return stod\n",
    "\n",
    "def fetch_vix(start_date, end_date):\n",
    "    vix = yf.download('^VIX', start=start_date, end=end_date)\n",
    "    return vix['Adj Close']\n",
    "\n",
    "def fetch_treasury_rates(start_date, end_date):\n",
    "    treasury_3m = pdr.get_data_fred('DGS3MO', start=start_date, end=end_date)\n",
    "    return treasury_3m['DGS3MO']\n",
    "\n"
   ]
  },
  {
   "cell_type": "code",
   "execution_count": 29,
   "metadata": {},
   "outputs": [],
   "source": [
    "class OptionDataGenerator:\n",
    "    def __init__(self, stock_data, risk_free_data, num_options=100, T=30):\n",
    "        \"\"\"\n",
    "        Initialize the option data generator.\n",
    "        \"\"\"\n",
    "        self.stock_data = stock_data\n",
    "        self.risk_free_data = risk_free_data\n",
    "        self.num_options = num_options  # this might still be useful if you want to keep track of how many options are considered\n",
    "        self.T = T\n",
    "\n",
    "        # Calculate daily returns and 30-day rolling volatility\n",
    "        returns = self.stock_data['Adj Close'].pct_change()\n",
    "        self.stock_data['Volatility'] = returns.rolling(window=30, min_periods=1).std()\n",
    "        self.stock_data['Volatility'] = self.stock_data['Volatility'].fillna(method='ffill').fillna(method='bfill')\n",
    "        self.stock_data['Volatility'] = self.stock_data['Volatility'].clip(lower=1e-8)\n",
    "\n",
    "    def generate_options(self, fixed_time_to_expiration=None, fixed_strike=None):\n",
    "        \"\"\"\n",
    "        Generate a DataFrame of call options data for the same dates as stock_data.\n",
    "        \"\"\"\n",
    "        options_data = []\n",
    "        time_to_expiration = fixed_time_to_expiration or self.T  # Use fixed or default expiration\n",
    "\n",
    "        for date in self.stock_data.index:\n",
    "            stock_price = self.stock_data.loc[date, 'Adj Close']\n",
    "            risk_free_rate = self.risk_free_data.loc[date]\n",
    "            vol = self.stock_data.loc[date, 'Volatility']\n",
    "            T_in_days = time_to_expiration\n",
    "\n",
    "            strike = fixed_strike if fixed_strike is not None else stock_price * (1 + np.random.uniform(-0.05, 0.05))\n",
    "            option_price, delta, gamma, theta, vega, rho = self._black_scholes_greeks(\n",
    "                stock_price, strike, T_in_days, risk_free_rate, vol)\n",
    "\n",
    "            # Scale each Greek by the number of options\n",
    "            options_data.append([\n",
    "                date, strike, vol, time_to_expiration, option_price,\n",
    "                delta * self.num_options,  # scaled delta\n",
    "                gamma * self.num_options,  # scaled gamma\n",
    "                theta * self.num_options,  # scaled theta\n",
    "                vega * self.num_options,   # scaled vega\n",
    "                rho * self.num_options,    # scaled rho\n",
    "                risk_free_rate\n",
    "            ])\n",
    "\n",
    "        # Create DataFrame with the same date index as stock_data\n",
    "        options_df = pd.DataFrame(\n",
    "            options_data,\n",
    "            columns=['Date', 'strike', 'impliedVolatility', 'TimeToExpiration',\n",
    "                     'OptionPrice', 'delta', 'gamma', 'theta', 'vega', 'rho', 'RiskFreeRate']\n",
    "        )\n",
    "        options_df['Date'] = pd.to_datetime(options_df['Date'])\n",
    "        options_df.set_index('Date', inplace=True)\n",
    "\n",
    "        return options_df\n",
    "\n",
    "    def _black_scholes_greeks(self, S, K, T, r, sigma):\n",
    "        \"\"\"\n",
    "        Calculate the Black-Scholes call option price and Greeks.\n",
    "        \"\"\"\n",
    "        if T <= 0 or sigma <= 0 or S <= 0 or K <= 0:\n",
    "            return 0, 0, 0, 0, 0, 0\n",
    "\n",
    "        d1 = (np.log(S / K) + (r + 0.5 * sigma ** 2) * T) / (sigma * np.sqrt(T))\n",
    "        d2 = d1 - sigma * np.sqrt(T)\n",
    "\n",
    "        call_price = S * norm.cdf(d1) - K * np.exp(-r * T) * norm.cdf(d2)\n",
    "        delta = norm.cdf(d1)\n",
    "        gamma = norm.pdf(d1) / (S * sigma * np.sqrt(T))\n",
    "        theta = (-S * norm.pdf(d1) * sigma / (2 * np.sqrt(T)) \n",
    "                 - r * K * np.exp(-r * T) * norm.cdf(d2))\n",
    "        vega = S * norm.pdf(d1) * np.sqrt(T) / 100  # Per 1% change in volatility\n",
    "        rho = K * T * np.exp(-r * T) * norm.cdf(d2) / 100  # Per 1% change in rate\n",
    "\n",
    "        return call_price, delta, gamma, theta, vega, rho"
   ]
  },
  {
   "cell_type": "markdown",
   "metadata": {},
   "source": [
    "## Generate data"
   ]
  },
  {
   "cell_type": "code",
   "execution_count": 30,
   "metadata": {},
   "outputs": [
    {
     "name": "stderr",
     "output_type": "stream",
     "text": [
      "[*********************100%%**********************]  1 of 1 completed"
     ]
    },
    {
     "name": "stderr",
     "output_type": "stream",
     "text": [
      "\n",
      "[*********************100%%**********************]  1 of 1 completed\n"
     ]
    }
   ],
   "source": [
    "# Fetch AAPL stock data for training\n",
    "ticker = 'AAPL'\n",
    "aapl_stock_train = yf.download(ticker, start=\"2010-01-01\", end=\"2022-12-31\")\n",
    "# Exclude the first 30 days (for a 30-day window)\n",
    "aapl_stock_train = aapl_stock_train.iloc[30:].copy()\n",
    "\n",
    "# Fetch AAPL stock data for testing\n",
    "aapl_stock_test = yf.download(ticker, start=\"2023-01-01\", end=\"2024-12-31\")\n",
    "aapl_stock_test = aapl_stock_test.iloc[30:].copy()\n",
    "\n",
    "\n",
    "aapl_stock_train.index = pd.to_datetime(aapl_stock_train.index)\n",
    "aapl_stock_test.index = pd.to_datetime(aapl_stock_test.index)\n",
    "\n",
    "df_stock_train = pd.DataFrame(aapl_stock_train)\n",
    "df_stock_test = pd.DataFrame(aapl_stock_test)\n",
    "\n",
    "# print(\"Testing stock train data:\")\n",
    "# print(df_stock_train.head())\n",
    "\n",
    "# print(\"Testing stock test data:\")\n",
    "# print(df_stock_test.head())"
   ]
  },
  {
   "cell_type": "code",
   "execution_count": 40,
   "metadata": {},
   "outputs": [
    {
     "name": "stderr",
     "output_type": "stream",
     "text": [
      "[*********************100%%**********************]  1 of 1 completed"
     ]
    },
    {
     "name": "stderr",
     "output_type": "stream",
     "text": [
      "\n",
      "[*********************100%%**********************]  1 of 1 completed\n"
     ]
    }
   ],
   "source": [
    "# Use the entire stock data\n",
    "data_train = df_stock_train.copy()\n",
    "data_test = df_stock_test.copy()\n",
    "\n",
    "# Apply indicators to training data\n",
    "features_train = pd.DataFrame(index=data_train.index)\n",
    "features_train[\"LogReturn\"] = np.log(data_train['Adj Close'] / data_train['Adj Close'].shift(1))\n",
    "features_train[\"RSI2\"] = calculate_rsi(data_train[\"Adj Close\"], period=2)\n",
    "features_train[\"MA10\"] = MA(data_train['Adj Close'], 10)\n",
    "features_train[\"MA30\"] = MA(data_train['Adj Close'], 30)\n",
    "features_train[\"MA200\"] = MA(data_train['Adj Close'], 200)\n",
    "features_train[\"EMA10\"] = EMA(data_train['Adj Close'], 10)\n",
    "features_train[\"EMA30\"] = EMA(data_train['Adj Close'], 30)\n",
    "features_train[\"EMA200\"] = EMA(data_train['Adj Close'], 200)\n",
    "features_train[\"ROC10\"] = ROC(data_train['Adj Close'], 10)\n",
    "features_train[\"ROC30\"] = ROC(data_train['Adj Close'], 30)\n",
    "features_train[\"MOM10\"] = MOM(data_train['Adj Close'], 10)\n",
    "features_train[\"MOM30\"] = MOM(data_train['Adj Close'], 30)\n",
    "features_train[\"%K10\"] = STOK(data_train['Adj Close'], data_train['Low'], data_train['High'], 10)\n",
    "features_train[\"%D10\"] = STOD(data_train['Adj Close'], data_train['Low'], data_train['High'], 10)\n",
    "features_train[\"%K30\"] = STOK(data_train['Adj Close'], data_train['Low'], data_train['High'], 30)\n",
    "features_train[\"%D30\"] = STOD(data_train['Adj Close'], data_train['Low'], data_train['High'], 30)\n",
    "# Fetch VIX and Risk-Free Rates\n",
    "vix_train = fetch_vix(\"2010-01-01\", \"2022-12-31\")\n",
    "risk_free_train = fetch_treasury_rates(\"2010-01-01\", \"2022-12-31\")\n",
    "\n",
    "features_train[\"VIX\"] = vix_train.reindex(features_train.index).ffill()\n",
    "features_train[\"RiskFreeRate\"] = risk_free_train.reindex(features_train.index).ffill() / 100 / 365\n",
    "features_train[\"Volume\"] = data_train[\"Volume\"]\n",
    "\n",
    "# Apply indicators to testing data\n",
    "features_test = pd.DataFrame(index=data_test.index)\n",
    "features_test[\"LogReturn\"] = np.log(data_test['Adj Close'] / data_test['Adj Close'].shift(1))\n",
    "features_test[\"RSI2\"] = calculate_rsi(data_test[\"Adj Close\"], period=2)\n",
    "features_test[\"MA10\"] = MA(data_test['Adj Close'], 10)\n",
    "features_test[\"MA30\"] = MA(data_test['Adj Close'], 30)\n",
    "features_test[\"MA200\"] = MA(data_test['Adj Close'], 200)\n",
    "features_test[\"EMA10\"] = EMA(data_test['Adj Close'], 10)\n",
    "features_test[\"EMA30\"] = EMA(data_test['Adj Close'], 30)\n",
    "features_test[\"EMA200\"] = EMA(data_test['Adj Close'], 200)\n",
    "features_test[\"ROC10\"] = ROC(data_test['Adj Close'], 10)\n",
    "features_test[\"ROC30\"] = ROC(data_test['Adj Close'], 30)\n",
    "features_test[\"MOM10\"] = MOM(data_test['Adj Close'], 10)\n",
    "features_test[\"MOM30\"] = MOM(data_test['Adj Close'], 30)\n",
    "features_test[\"%K10\"] = STOK(data_test['Adj Close'], data_test['Low'], data_test['High'], 10)\n",
    "features_test[\"%D10\"] = STOD(data_test['Adj Close'], data_test['Low'], data_test['High'], 10)\n",
    "features_test[\"%K30\"] = STOK(data_test['Adj Close'], data_test['Low'], data_test['High'], 30)\n",
    "features_test[\"%D30\"] = STOD(data_test['Adj Close'], data_test['Low'], data_test['High'], 30)\n",
    "# Fetch VIX and Risk-Free Rates\n",
    "vix_test = fetch_vix(\"2023-01-01\", \"2024-12-31\")\n",
    "risk_free_test = fetch_treasury_rates(\"2023-01-01\", \"2024-12-31\")\n",
    "\n",
    "features_test[\"VIX\"] = vix_test.reindex(features_test.index).ffill()\n",
    "features_test[\"RiskFreeRate\"] = risk_free_test.reindex(features_test.index).ffill() / 100 / 365\n",
    "features_test[\"Volume\"] = data_test[\"Volume\"]\n",
    "\n",
    "columns_not_in_features = df_stock_train.columns.difference(features_train.columns)\n",
    "\n",
    "# Combine features with the original stock data, then fill any remaining NaN values\n",
    "features_train = pd.concat([features_train, df_stock_train[columns_not_in_features]], axis=1).ffill().bfill()\n",
    "features_test = pd.concat([features_test, df_stock_test[columns_not_in_features]], axis=1).ffill().bfill()\n",
    "\n",
    "# Final check to confirm alignment\n",
    "# print(\"Aligned Features Train Head:\\n\", features_train.head())\n",
    "# print(\"Aligned Features Test Head:\\n\", features_test.head())\n"
   ]
  },
  {
   "cell_type": "code",
   "execution_count": 41,
   "metadata": {},
   "outputs": [],
   "source": [
    "# Ensure 'RiskFreeRate' is aligned to the index of df_stock_train and df_stock_test\n",
    "risk_free_train_aligned = features_train['RiskFreeRate'].reindex(df_stock_train.index).ffill().bfill() \n",
    "risk_free_test_aligned = features_test['RiskFreeRate'].reindex(df_stock_test.index).ffill().bfill() \n",
    "\n",
    "# Assign the aligned 'RiskFreeRate' to the stock dataframes\n",
    "df_stock_train['RiskFreeRate'] = risk_free_train_aligned\n",
    "df_stock_test['RiskFreeRate'] = risk_free_test_aligned\n",
    "\n",
    "# Confirm the addition\n",
    "# print(\"df_stock_train with RiskFreeRate:\\n\", df_stock_train.head())\n",
    "# print(\"df_stock_test with RiskFreeRate:\\n\", df_stock_test.head())"
   ]
  },
  {
   "cell_type": "code",
   "execution_count": 42,
   "metadata": {},
   "outputs": [
    {
     "name": "stderr",
     "output_type": "stream",
     "text": [
      "/var/folders/hz/cptf1fsx30vfjg68b57f0w4h0000gn/T/ipykernel_67580/2377896128.py:14: FutureWarning: Series.fillna with 'method' is deprecated and will raise in a future version. Use obj.ffill() or obj.bfill() instead.\n",
      "  self.stock_data['Volatility'] = self.stock_data['Volatility'].fillna(method='ffill').fillna(method='bfill')\n",
      "/var/folders/hz/cptf1fsx30vfjg68b57f0w4h0000gn/T/ipykernel_67580/2377896128.py:14: FutureWarning: Series.fillna with 'method' is deprecated and will raise in a future version. Use obj.ffill() or obj.bfill() instead.\n",
      "  self.stock_data['Volatility'] = self.stock_data['Volatility'].fillna(method='ffill').fillna(method='bfill')\n",
      "/var/folders/hz/cptf1fsx30vfjg68b57f0w4h0000gn/T/ipykernel_67580/2452871538.py:41: SettingWithCopyWarning: \n",
      "A value is trying to be set on a copy of a slice from a DataFrame\n",
      "\n",
      "See the caveats in the documentation: https://pandas.pydata.org/pandas-docs/stable/user_guide/indexing.html#returning-a-view-versus-a-copy\n",
      "  options_train.rename(columns={'impliedVolatility': 'vol', 'OptionPrice': 'OptionPrice'}, inplace=True)\n",
      "/var/folders/hz/cptf1fsx30vfjg68b57f0w4h0000gn/T/ipykernel_67580/2452871538.py:42: SettingWithCopyWarning: \n",
      "A value is trying to be set on a copy of a slice from a DataFrame\n",
      "\n",
      "See the caveats in the documentation: https://pandas.pydata.org/pandas-docs/stable/user_guide/indexing.html#returning-a-view-versus-a-copy\n",
      "  options_test.rename(columns={'impliedVolatility': 'vol', 'OptionPrice': 'OptionPrice'}, inplace=True)\n",
      "/var/folders/hz/cptf1fsx30vfjg68b57f0w4h0000gn/T/ipykernel_67580/2452871538.py:49: FutureWarning: DataFrame.fillna with 'method' is deprecated and will raise in a future version. Use obj.ffill() or obj.bfill() instead.\n",
      "  features_train.fillna(method='ffill', inplace=True)\n",
      "/var/folders/hz/cptf1fsx30vfjg68b57f0w4h0000gn/T/ipykernel_67580/2452871538.py:50: FutureWarning: DataFrame.fillna with 'method' is deprecated and will raise in a future version. Use obj.ffill() or obj.bfill() instead.\n",
      "  features_test.fillna(method='ffill', inplace=True)\n"
     ]
    }
   ],
   "source": [
    "# Initialize the OptionDataGenerator with stock data and risk-free rates\n",
    "option_generator_train = OptionDataGenerator(\n",
    "    stock_data=df_stock_train,\n",
    "    risk_free_data=features_train[\"RiskFreeRate\"],\n",
    "    num_options=100,  # changed\n",
    "    T=30  # Fixed time to expiration\n",
    ")\n",
    "\n",
    "option_generator_test = OptionDataGenerator(\n",
    "    stock_data=df_stock_test,\n",
    "    risk_free_data=features_test[\"RiskFreeRate\"],\n",
    "    num_options=100,\n",
    "    T=30\n",
    ")\n",
    "\n",
    "# Generate options\n",
    "call_options_train = option_generator_train.generate_options(fixed_time_to_expiration=30)\n",
    "call_options_test = option_generator_test.generate_options(fixed_time_to_expiration=30)\n",
    "\n",
    "# Since we have one option per date, we can merge directly\n",
    "call_options_train.reset_index(inplace=True)\n",
    "call_options_test.reset_index(inplace=True)\n",
    "\n",
    "# Set Date as index for merging\n",
    "call_options_train.set_index('Date', inplace=True)\n",
    "call_options_test.set_index('Date', inplace=True)\n",
    "\n",
    "# Select only the Greeks\n",
    "greeks_train = call_options_train[['delta', 'gamma', 'theta', 'vega', 'rho']]\n",
    "greeks_test = call_options_test[['delta', 'gamma', 'theta', 'vega', 'rho']]\n",
    "\n",
    "# Combine features with the Greeks\n",
    "features_train = pd.concat([features_train, greeks_train], axis=1)\n",
    "features_test = pd.concat([features_test, greeks_test], axis=1)\n",
    "\n",
    "# Select only the necessary columns from options data\n",
    "options_train = call_options_train[['impliedVolatility', 'OptionPrice']]\n",
    "options_test = call_options_test[['impliedVolatility', 'OptionPrice']]\n",
    "\n",
    "# Rename columns to fit into the features DataFrame\n",
    "options_train.rename(columns={'impliedVolatility': 'vol', 'OptionPrice': 'OptionPrice'}, inplace=True)\n",
    "options_test.rename(columns={'impliedVolatility': 'vol', 'OptionPrice': 'OptionPrice'}, inplace=True)\n",
    "\n",
    "# Combine option features with the stock features\n",
    "features_train = pd.concat([features_train, options_train], axis=1)\n",
    "features_test = pd.concat([features_test, options_test], axis=1)\n",
    "\n",
    "# Fill any remaining NaN values (if any)\n",
    "features_train.fillna(method='ffill', inplace=True)\n",
    "features_test.fillna(method='ffill', inplace=True)"
   ]
  },
  {
   "cell_type": "code",
   "execution_count": 43,
   "metadata": {},
   "outputs": [
    {
     "name": "stdout",
     "output_type": "stream",
     "text": [
      "Index(['LogReturn', 'RSI2', 'MA10', 'MA30', 'MA200', 'EMA10', 'EMA30',\n",
      "       'EMA200', 'ROC10', 'ROC30', 'MOM10', 'MOM30', '%K10', '%D10', '%K30',\n",
      "       '%D30', 'VIX', 'RiskFreeRate', 'Volume', 'Adj Close', 'Close', 'High',\n",
      "       'Low', 'Open', 'delta', 'gamma', 'theta', 'vega', 'rho', 'vol',\n",
      "       'OptionPrice'],\n",
      "      dtype='object')\n"
     ]
    }
   ],
   "source": [
    "print(features_train.columns)"
   ]
  },
  {
   "cell_type": "code",
   "execution_count": 44,
   "metadata": {},
   "outputs": [
    {
     "name": "stdout",
     "output_type": "stream",
     "text": [
      "(3242, 31)\n",
      "(434, 31)\n",
      "(3242, 8)\n",
      "(434, 8)\n",
      "(3242, 10)\n",
      "(434, 10)\n"
     ]
    }
   ],
   "source": [
    "print(features_train.shape)\n",
    "print(features_test.shape)\n",
    "print(df_stock_train.shape)\n",
    "print(df_stock_test.shape)\n",
    "print(call_options_train.shape)\n",
    "print(call_options_test.shape)"
   ]
  },
  {
   "cell_type": "code",
   "execution_count": null,
   "metadata": {},
   "outputs": [],
   "source": []
  },
  {
   "cell_type": "markdown",
   "metadata": {},
   "source": [
    "## Notebook Summary\n",
    "We now have the following dataframes to be used for training / testing:\n",
    "- features_train (which includes the use of greeks_train)\n",
    "- features_test (which includes the use of greeks_test)\n",
    "- df_stock_train\n",
    "- df_stock_test\n",
    "- call_options_train\n",
    "- call_options_test\n"
   ]
  }
 ],
 "metadata": {
  "kernelspec": {
   "display_name": "base",
   "language": "python",
   "name": "python3"
  },
  "language_info": {
   "codemirror_mode": {
    "name": "ipython",
    "version": 3
   },
   "file_extension": ".py",
   "mimetype": "text/x-python",
   "name": "python",
   "nbconvert_exporter": "python",
   "pygments_lexer": "ipython3",
   "version": "3.9.20"
  }
 },
 "nbformat": 4,
 "nbformat_minor": 2
}
