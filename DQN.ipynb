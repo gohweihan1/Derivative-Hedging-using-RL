{
 "cells": [
  {
   "cell_type": "markdown",
   "metadata": {},
   "source": [
    "## Imports"
   ]
  },
  {
   "cell_type": "code",
   "execution_count": 1,
   "metadata": {},
   "outputs": [
    {
     "name": "stderr",
     "output_type": "stream",
     "text": [
      "/Users/weihangoh/opt/anaconda3/lib/python3.9/site-packages/pandas/core/computation/expressions.py:21: UserWarning: Pandas requires version '2.8.4' or newer of 'numexpr' (version '2.8.1' currently installed).\n",
      "  from pandas.core.computation.check import NUMEXPR_INSTALLED\n",
      "/Users/weihangoh/opt/anaconda3/lib/python3.9/site-packages/pandas/core/arrays/masked.py:60: UserWarning: Pandas requires version '1.3.6' or newer of 'bottleneck' (version '1.3.4' currently installed).\n",
      "  from pandas.core import (\n",
      "/Users/weihangoh/opt/anaconda3/lib/python3.9/site-packages/scipy/__init__.py:146: UserWarning: A NumPy version >=1.16.5 and <1.23.0 is required for this version of SciPy (detected version 1.26.4\n",
      "  warnings.warn(f\"A NumPy version >={np_minversion} and <{np_maxversion}\"\n",
      "[*********************100%%**********************]  1 of 1 completed\n",
      "[*********************100%%**********************]  1 of 1 completed\n",
      "[*********************100%%**********************]  1 of 1 completed\n",
      "[*********************100%%**********************]  1 of 1 completed\n",
      "<string>:14: FutureWarning: Series.fillna with 'method' is deprecated and will raise in a future version. Use obj.ffill() or obj.bfill() instead.\n",
      "<string>:14: FutureWarning: Series.fillna with 'method' is deprecated and will raise in a future version. Use obj.ffill() or obj.bfill() instead.\n"
     ]
    },
    {
     "name": "stdout",
     "output_type": "stream",
     "text": [
      "Index(['LogReturn', 'RSI2', 'MA10', 'MA30', 'MA200', 'EMA10', 'EMA30',\n",
      "       'EMA200', 'ROC10', 'ROC30', 'MOM10', 'MOM30', '%K10', '%D10', '%K30',\n",
      "       '%D30', 'VIX', 'RiskFreeRate', 'Volume', 'Adj Close', 'Close', 'High',\n",
      "       'Low', 'Open', 'delta', 'gamma', 'theta', 'vega', 'rho', 'vol',\n",
      "       'OptionPrice'],\n",
      "      dtype='object')\n",
      "(3242, 31)\n",
      "(440, 31)\n",
      "(3242, 8)\n",
      "(440, 8)\n",
      "(3242, 10)\n",
      "(440, 10)\n"
     ]
    },
    {
     "name": "stderr",
     "output_type": "stream",
     "text": [
      "<string>:41: SettingWithCopyWarning: \n",
      "A value is trying to be set on a copy of a slice from a DataFrame\n",
      "\n",
      "See the caveats in the documentation: https://pandas.pydata.org/pandas-docs/stable/user_guide/indexing.html#returning-a-view-versus-a-copy\n",
      "<string>:42: SettingWithCopyWarning: \n",
      "A value is trying to be set on a copy of a slice from a DataFrame\n",
      "\n",
      "See the caveats in the documentation: https://pandas.pydata.org/pandas-docs/stable/user_guide/indexing.html#returning-a-view-versus-a-copy\n",
      "<string>:49: FutureWarning: DataFrame.fillna with 'method' is deprecated and will raise in a future version. Use obj.ffill() or obj.bfill() instead.\n",
      "<string>:50: FutureWarning: DataFrame.fillna with 'method' is deprecated and will raise in a future version. Use obj.ffill() or obj.bfill() instead.\n"
     ]
    }
   ],
   "source": [
    "import numpy as np\n",
    "import pandas as pd\n",
    "from pandas_datareader import data as pdr\n",
    "import random\n",
    "import seaborn as sns\n",
    "from IPython.display import display\n",
    "import matplotlib.pyplot as plt\n",
    "# from matplotlib import animation\n",
    "# from JSAnimation.IPython_display import display_animation\n",
    "# import gym\n",
    "import scipy.stats as stats\n",
    "from scipy.stats import norm\n",
    "from collections import namedtuple\n",
    "import statistics\n",
    "import time\n",
    "import os\n",
    "from collections import deque\n",
    "%matplotlib inline\n",
    "\n",
    "import torch\n",
    "import torch.nn as nn\n",
    "import torch.optim as optim\n",
    "from collections import deque\n",
    "\n",
    "import yfinance as yf\n",
    "import datetime as dt\n",
    "\n",
    "import pickle\n",
    "\n",
    "import import_ipynb\n",
    "import Generate_Data\n",
    "import Environment"
   ]
  },
  {
   "cell_type": "markdown",
   "metadata": {},
   "source": [
    "## Defining Model Classes\n",
    "- Environment: Simulates the trading environment, handling state transitions, reward calculation, and interaction with the stock and option data.\n",
    "\n",
    "- BrainDQN: Implements the DQN agent's logic, including policy selection, experience replay, epsilon-greedy action selection, and network updates.\n",
    "\n",
    "- ReplayMemory: Manages the experience replay memory, storing agent experiences and sampling them for training.\n",
    "\n",
    "- AgentActionValueBase: Provides the agent interface for interacting with BrainDQN, including action selection, memory storage, and updating the model.\n"
   ]
  },
  {
   "cell_type": "code",
   "execution_count": 2,
   "metadata": {},
   "outputs": [],
   "source": [
    "class ReplayMemory:\n",
    "    def __init__(self, capacity=10000):\n",
    "        self.memory = deque(maxlen=capacity)\n",
    "    \n",
    "    def push(self, state, action, state_next, reward):\n",
    "        self.memory.append((state, action, state_next, reward))\n",
    "    \n",
    "    def sample(self, batch_size):\n",
    "        return random.sample(self.memory, batch_size)\n",
    "    \n",
    "    def __len__(self):\n",
    "        return len(self.memory)"
   ]
  },
  {
   "cell_type": "code",
   "execution_count": 3,
   "metadata": {},
   "outputs": [],
   "source": [
    "class AgentActionValueBase:\n",
    "    def __init__(self, brain):\n",
    "        self.brain = brain\n",
    "\n",
    "    def get_action(self, state, step=0, episode=0):\n",
    "        return self.brain.decide_action(state, step=step, episode=episode)\n",
    "\n",
    "    def memorize(self, state, action, state_next, reward):\n",
    "        self.brain.memory.push(state, action, state_next, reward)\n",
    "\n",
    "    def update_agent(self):\n",
    "        self.brain.replay()"
   ]
  },
  {
   "cell_type": "code",
   "execution_count": 10,
   "metadata": {},
   "outputs": [],
   "source": [
    "import torch\n",
    "import torch.nn as nn\n",
    "import torch.optim as optim\n",
    "import numpy as np\n",
    "import copy\n",
    "from collections import namedtuple\n",
    "\n",
    "# Constants\n",
    "CAPACITY = 1000000  # Replay memory capacity\n",
    "BATCH_SIZE = 64     # Batch size for training\n",
    "GAMMA = 0.99        # Discount factor\n",
    "FREQ_UPDATE_TARGET = 1000\n",
    "\n",
    "Transition = namedtuple('Transition', ('state', 'action', 'next_state', 'reward'))\n",
    "\n",
    "class BrainDQN:\n",
    "    def __init__(self, num_states, num_actions):\n",
    "        self.num_states = num_states\n",
    "        self.num_actions = num_actions\n",
    "        self.freq_update_target = FREQ_UPDATE_TARGET\n",
    "        self.count_replay = 0\n",
    "        self.memory = ReplayMemory(CAPACITY)\n",
    "\n",
    "        # Device configuration (CPU or GPU)\n",
    "        self.device = torch.device(\"cuda\" if torch.cuda.is_available() else \"cpu\")\n",
    "\n",
    "        # Construct the neural network\n",
    "        input_dim = self.num_states\n",
    "        output_dim = self.num_actions\n",
    "        hidden_layers = [16, 16]\n",
    "        activation_func = nn.ReLU()\n",
    "\n",
    "        # Build the model\n",
    "        layers = []\n",
    "        prev_dim = input_dim\n",
    "        for hidden_dim in hidden_layers:\n",
    "            layers.append(nn.Linear(prev_dim, hidden_dim))\n",
    "            layers.append(activation_func)\n",
    "            prev_dim = hidden_dim\n",
    "        layers.append(nn.Linear(prev_dim, output_dim))\n",
    "        self.model = nn.Sequential(*layers).to(self.device)\n",
    "\n",
    "        # Initialize target model\n",
    "        self._target_model = copy.deepcopy(self.model).to(self.device)\n",
    "        self._target_model.eval()\n",
    "\n",
    "        # Set optimizer and loss function\n",
    "        self.loss_fn = nn.MSELoss()\n",
    "        self.optimizer = optim.Adam(self.model.parameters(), lr=0.001)\n",
    "\n",
    "    def save(self, file_name):\n",
    "        torch.save(self.model.state_dict(), file_name)\n",
    "\n",
    "    def load(self, file_name):\n",
    "        self.model.load_state_dict(torch.load(file_name))\n",
    "        self._target_model = copy.deepcopy(self.model)\n",
    "\n",
    "    def replay(self):\n",
    "        if len(self.memory) < BATCH_SIZE:\n",
    "            return\n",
    "\n",
    "        # Sample mini-batch from memory\n",
    "        transitions = self.memory.sample(BATCH_SIZE)\n",
    "        batch = Transition(*zip(*transitions))\n",
    "\n",
    "        # Convert to tensors\n",
    "        #state_batch = torch.tensor(batch.state, dtype=torch.float32).to(self.device)\n",
    "        state_batch = torch.tensor(\n",
    "            [s.to_numpy(dtype=np.float32) for s in batch.state],\n",
    "            dtype=torch.float32\n",
    "        ).to(self.device)\n",
    "        action_batch = torch.tensor(batch.action, dtype=torch.long).unsqueeze(1).to(self.device)\n",
    "        reward_batch = torch.tensor(batch.reward, dtype=torch.float32).to(self.device)\n",
    "\n",
    "        # Handle next states\n",
    "        non_final_mask = torch.tensor(tuple(map(lambda s: s is not None, batch.next_state)), dtype=torch.bool).to(self.device)\n",
    "        non_final_next_states = torch.cat([torch.tensor(s.to_numpy(), dtype=torch.float32).unsqueeze(0) for s in batch.next_state if s is not None]).to(self.device)\n",
    "\n",
    "        # Compute Q(s, a) for current states\n",
    "        state_action_values = self.model(state_batch).gather(1, action_batch)\n",
    "\n",
    "        # Compute V(s') for next states\n",
    "        next_state_values = torch.zeros(BATCH_SIZE, device=self.device)\n",
    "        with torch.no_grad():\n",
    "            if non_final_next_states.size(0) > 0:\n",
    "                next_state_values[non_final_mask] = self._target_model(non_final_next_states).max(1)[0]\n",
    "        # Compute expected Q values\n",
    "        expected_state_action_values = reward_batch + (GAMMA * next_state_values)\n",
    "\n",
    "        # Compute loss\n",
    "        loss = self.loss_fn(state_action_values.squeeze(), expected_state_action_values)\n",
    "\n",
    "        # Optimize the model\n",
    "        self.optimizer.zero_grad()\n",
    "        loss.backward()\n",
    "        self.optimizer.step()\n",
    "\n",
    "        self.count_replay += 1\n",
    "        if self.count_replay % self.freq_update_target == 0:\n",
    "            self.update_target_model()\n",
    "\n",
    "    def decide_action(self, state, step=None, episode=None):\n",
    "        if episode is not None:\n",
    "            epsilon = 0.5 * (1 / (episode + 1))\n",
    "        else:\n",
    "            epsilon = 0\n",
    "\n",
    "        if np.random.uniform(0, 1) >= epsilon:\n",
    "            with torch.no_grad():\n",
    "                state_tensor = torch.tensor(state.to_numpy(), dtype=torch.float32).unsqueeze(0).to(self.device)\n",
    "                q_values = self.model(state_tensor)\n",
    "                action = q_values.max(1)[1].item()\n",
    "        else:\n",
    "            action = np.random.randint(0, self.num_actions)\n",
    "\n",
    "        return action\n",
    "\n",
    "    def update_target_model(self):\n",
    "        self._target_model.load_state_dict(self.model.state_dict())\n"
   ]
  },
  {
   "cell_type": "markdown",
   "metadata": {},
   "source": [
    "## Model Training"
   ]
  },
  {
   "cell_type": "code",
   "execution_count": 11,
   "metadata": {},
   "outputs": [],
   "source": [
    "def train_agent(env, agent, num_episodes=1000, num_steps=30, gamma=0.99):\n",
    "    \"\"\"\n",
    "    Trains the agent in the given environment.\n",
    "\n",
    "    Parameters:\n",
    "    - env: The trading environment (DeltaHedgingEnv).\n",
    "    - agent: The RL agent (AgentActionValueBase).\n",
    "    - num_episodes: The number of training episodes.\n",
    "    - num_steps: The number of steps per episode.\n",
    "    - gamma: Discount factor for future rewards.\n",
    "\n",
    "    Returns:\n",
    "    - pl_history: A list containing the P&L history for each episode.\n",
    "    - reward_history: A list containing the cumulative reward history for each episode.\n",
    "    \"\"\"\n",
    "    \n",
    "    pl_history = []  # Profit and loss history for each episode\n",
    "    reward_history = []  # Total reward history for each episode\n",
    "    std_pl_history = []  # Standard deviation of P&L for each episode ; added this \n",
    "\n",
    "    last_30_pl = []\n",
    "    \n",
    "    for episode in range(num_episodes):\n",
    "        state = env.reset()  # Reset the environment and get the initial state\n",
    "        total_reward = 0  # Track total reward for the episode\n",
    "        pl_episode = []  # Track portfolio value (P&L) for the episode\n",
    "\n",
    "        for step in range(num_steps):\n",
    "            # Agent takes an action based on the current state\n",
    "            action = agent.get_action(state, step=step, episode=episode)\n",
    "            \n",
    "            # Environment returns the next state, reward, and whether the episode is done\n",
    "            next_state, reward, done, pv = env.step(action)\n",
    "            \n",
    "            # Accumulate total reward, discounted by gamma (for future rewards)\n",
    "            total_reward += reward * np.power(gamma, episode)\n",
    "            \n",
    "            # Store the portfolio value (P&L) for the step\n",
    "            pl_episode.append(pv)\n",
    "            \n",
    "            # Memorize the experience\n",
    "            agent.memorize(state, action, next_state, reward)\n",
    "            \n",
    "            # Update the agent\n",
    "            agent.update_agent()\n",
    "\n",
    "            # Move to the next state\n",
    "            state = next_state\n",
    "            \n",
    "            # If the episode is done, break out of the loop\n",
    "            if done:\n",
    "                break\n",
    "        \n",
    "        # At the end of the episode, calculate the total P&L and reward\n",
    "        pl_total = sum(pl_episode)\n",
    "        pl_history.append(pl_total)\n",
    "        reward_history.append(total_reward)\n",
    "        #std_pl_history.append(np.std(pl_episode))\n",
    "\n",
    "        last_30_pl.append(pl_total)\n",
    "        if len(last_30_pl) > 30:\n",
    "            last_30_pl.pop(0)\n",
    "\n",
    "        if episode >= 30:\n",
    "            std = np.std(last_30_pl)\n",
    "            std_pl_history.append(std)\n",
    "        else:\n",
    "            std_pl_history.append(np.nan)\n",
    "\n",
    "        # if episode % 30 == 0 and episode != 0:\n",
    "        #     std_pl_history.append(np.std(pl_episode[-30:]))  # Compute std dev of P&L for the episode # added this\n",
    "        \n",
    "        # Print progress every 100 episodes\n",
    "        if episode % 100 == 0:\n",
    "            print(f\"Episode {episode}/{num_episodes}, Total Reward: {total_reward}, P&L: {pl_total}, Std Dev P&L: {std_pl_history[-1]}\") # added std dev part\n",
    "    \n",
    "    return pl_history, reward_history, std_pl_history # added std dev"
   ]
  },
  {
   "cell_type": "code",
   "execution_count": 12,
   "metadata": {},
   "outputs": [
    {
     "name": "stdout",
     "output_type": "stream",
     "text": [
      "Episode 0/1000, Total Reward: -30541.60525917425, P&L: 19.02433414911178, Std Dev P&L: nan\n"
     ]
    },
    {
     "name": "stderr",
     "output_type": "stream",
     "text": [
      "/var/folders/hz/cptf1fsx30vfjg68b57f0w4h0000gn/T/ipykernel_21437/1574897309.py:68: UserWarning: Creating a tensor from a list of numpy.ndarrays is extremely slow. Please consider converting the list to a single numpy.ndarray with numpy.array() before converting to a tensor. (Triggered internally at /Users/runner/work/pytorch/pytorch/pytorch/torch/csrc/utils/tensor_new.cpp:278.)\n",
      "  state_batch = torch.tensor(\n"
     ]
    },
    {
     "name": "stdout",
     "output_type": "stream",
     "text": [
      "Episode 100/1000, Total Reward: -358.52814359608817, P&L: 119.66266278601552, Std Dev P&L: 205.18938644471305\n",
      "Episode 200/1000, Total Reward: -11257.22683535358, P&L: 327.6315548300354, Std Dev P&L: 219.47963972102642\n",
      "Episode 300/1000, Total Reward: -2428.645154054673, P&L: -130.2861379778065, Std Dev P&L: 123.23818951760828\n",
      "Episode 400/1000, Total Reward: -1031.0107723169926, P&L: 30.75557628856265, Std Dev P&L: 151.42769593990616\n",
      "Episode 500/1000, Total Reward: -11.123780414826715, P&L: 5.457842008087596, Std Dev P&L: 138.80600876336038\n",
      "Episode 600/1000, Total Reward: -4.098792282646927, P&L: 200.32641318365484, Std Dev P&L: 187.46067485953816\n",
      "Episode 700/1000, Total Reward: -0.3815114335237067, P&L: -45.821887268336155, Std Dev P&L: 126.94332546545213\n",
      "Episode 800/1000, Total Reward: -0.13382237185808762, P&L: 36.12527054564376, Std Dev P&L: 122.26511250049711\n",
      "Episode 900/1000, Total Reward: -0.7102008969764764, P&L: 187.4587967815506, Std Dev P&L: 161.3472906576525\n"
     ]
    },
    {
     "data": {
      "image/png": "[encoded data removed]",
      "text/plain": [
       "<Figure size 864x432 with 1 Axes>"
      ]
     },
     "metadata": {
      "needs_background": "light"
     },
     "output_type": "display_data"
    },
    {
     "data": {
      "image/png": "[encoded data removed]",
      "text/plain": [
       "<Figure size 720x432 with 1 Axes>"
      ]
     },
     "metadata": {
      "needs_background": "light"
     },
     "output_type": "display_data"
    }
   ],
   "source": [
    "##Getting train datasets\n",
    "features_train = Generate_Data.features_train\n",
    "df_stock_train = Generate_Data.df_stock_train\n",
    "call_options_train = Generate_Data.call_options_train\n",
    "\n",
    "# Set up your environment with real AAPL stock and option data\n",
    "env_train = Environment.Environment(\n",
    "    stock_data=df_stock_train,\n",
    "    option_data=call_options_train,\n",
    "    features_data=features_train,\n",
    "    T=30,\n",
    "    n_steps=30,\n",
    "    num_sold_opt=100,\n",
    "    kappa=0.1,\n",
    "    alpha=0.001\n",
    ")\n",
    "num_states = env_train.num_states\n",
    "num_actions = env_train.num_actions\n",
    "\n",
    "# Initialize the agent's brain\n",
    "brain = BrainDQN(num_states, num_actions)\n",
    "\n",
    "# Initialize the agent\n",
    "dqn_agent = AgentActionValueBase(brain)\n",
    "\n",
    "# Train the agent\n",
    "pl_history, reward_history, std_pl = train_agent(env_train, dqn_agent, num_episodes=1000, num_steps=30)\n",
    "\n",
    "plt.figure(figsize=(12, 6))\n",
    "\n",
    "# Plot P&L history\n",
    "plt.subplot(1, 2, 1)\n",
    "plt.plot(pl_history)\n",
    "plt.title(\"P&L History\")\n",
    "plt.xlabel(\"Episode\")\n",
    "plt.ylabel(\"P&L\")\n",
    "\n",
    "# Plot histogram\n",
    "plt.figure(figsize=(10, 6))\n",
    "sns.histplot(pl_history, kde=False, bins=30, label=\"Profit and Loss\", alpha=0.6)\n",
    "\n",
    "plt.axvline(0, color='k', linestyle='--')  # Mark zero for reference\n",
    "plt.xlabel(\"Profit and Loss\")\n",
    "plt.ylabel(\"Frequency / Density\")\n",
    "plt.title(\"Histogram with KDE of Profit and Loss\")\n",
    "plt.legend()\n",
    "plt.show()\n",
    "\n",
    "plt.show()"
   ]
  },
  {
   "cell_type": "code",
   "execution_count": 12,
   "metadata": {},
   "outputs": [
    {
     "data": {
      "image/png": "[encoded data removed]",
      "text/plain": [
       "<Figure size 432x288 with 2 Axes>"
      ]
     },
     "metadata": {
      "needs_background": "light"
     },
     "output_type": "display_data"
    }
   ],
   "source": [
    "## DQN\n",
    "\n",
    "episodes = np.array(list(range(1, len(reward_history) + 1)))\n",
    "\n",
    "# Create a figure for dual-axis plotting\n",
    "fig = plt.figure(figsize=[6, 4])\n",
    "ax1 = fig.add_subplot(111)\n",
    "\n",
    "# Plot Sum of Discounted Reward\n",
    "ax1.plot(episodes, reward_history, color='coral', label='Sum Reward')\n",
    "ax1.set_xlabel('Episode')\n",
    "ax1.set_ylabel(\"Sum of Discounted Reward\")\n",
    "h1, l1 = ax1.get_legend_handles_labels()\n",
    "\n",
    "# Create a secondary axis for Std Dev PL\n",
    "ax2 = ax1.twinx()\n",
    "ax2.plot(episodes, std_pl, color='forestgreen', label='Std Dev PL')\n",
    "ax2.set_ylabel(\"Std. Dev. of PL\")\n",
    "h2, l2 = ax2.get_legend_handles_labels()\n",
    "\n",
    "# Combine legends for both axes and set the title\n",
    "ax2.legend(h1 + h2, l1 + l2, loc='center right')\n",
    "ax1.set_title('Case of No Costs: Delta')\n",
    "\n",
    "plt.tight_layout()\n",
    "plt.show()"
   ]
  },
  {
   "cell_type": "code",
   "execution_count": 9,
   "metadata": {},
   "outputs": [],
   "source": [
    "# Save the agent (if additional attributes need to be saved)\n",
    "with open(\"models/dqn_trained_agent.pkl\", \"wb\") as f:\n",
    "    pickle.dump(dqn_agent, f)"
   ]
  },
  {
   "cell_type": "markdown",
   "metadata": {},
   "source": [
    "## Notebook Summary\n",
    "Train DQN model, save as dqn_trained_brain"
   ]
  },
  {
   "cell_type": "code",
   "execution_count": 13,
   "metadata": {},
   "outputs": [
    {
     "name": "stdout",
     "output_type": "stream",
     "text": [
      "Requirement already satisfied: torchviz in /Users/weihangoh/opt/anaconda3/lib/python3.9/site-packages (0.0.2)\n",
      "Requirement already satisfied: graphviz in /Users/weihangoh/opt/anaconda3/lib/python3.9/site-packages (from torchviz) (0.20.3)\n",
      "Requirement already satisfied: torch in /Users/weihangoh/opt/anaconda3/lib/python3.9/site-packages (from torchviz) (2.2.2)\n",
      "Requirement already satisfied: networkx in /Users/weihangoh/opt/anaconda3/lib/python3.9/site-packages (from torch->torchviz) (2.7.1)\n",
      "Requirement already satisfied: filelock in /Users/weihangoh/opt/anaconda3/lib/python3.9/site-packages (from torch->torchviz) (3.6.0)\n",
      "Requirement already satisfied: sympy in /Users/weihangoh/opt/anaconda3/lib/python3.9/site-packages (from torch->torchviz) (1.10.1)\n",
      "Requirement already satisfied: fsspec in /Users/weihangoh/opt/anaconda3/lib/python3.9/site-packages (from torch->torchviz) (2022.2.0)\n",
      "Requirement already satisfied: jinja2 in /Users/weihangoh/opt/anaconda3/lib/python3.9/site-packages (from torch->torchviz) (3.1.2)\n",
      "Requirement already satisfied: typing-extensions>=4.8.0 in /Users/weihangoh/opt/anaconda3/lib/python3.9/site-packages (from torch->torchviz) (4.12.2)\n",
      "Requirement already satisfied: MarkupSafe>=2.0 in /Users/weihangoh/opt/anaconda3/lib/python3.9/site-packages (from jinja2->torch->torchviz) (2.1.3)\n",
      "Requirement already satisfied: mpmath>=0.19 in /Users/weihangoh/opt/anaconda3/lib/python3.9/site-packages (from sympy->torch->torchviz) (1.2.1)\n"
     ]
    },
    {
     "data": {
      "text/plain": [
       "'model_visualization.png'"
      ]
     },
     "execution_count": 13,
     "metadata": {},
     "output_type": "execute_result"
    }
   ],
   "source": [
    "#!pip install torchviz\n",
    "\n",
    "\n",
    "from torchviz import make_dot\n",
    "\n",
    "# Create an instance of BrainDQN\n",
    "brain_dqn = BrainDQN(num_states=num_states, num_actions=num_actions)\n",
    "\n",
    "# Generate a random sample input to pass through the model\n",
    "sample_input = torch.randn(1, num_states).to(brain_dqn.device)\n",
    "\n",
    "# Forward pass through the model to get the output\n",
    "output = brain_dqn.model(sample_input)\n",
    "\n",
    "# Visualize the model architecture\n",
    "dot = make_dot(output, params=dict(brain_dqn.model.named_parameters()))\n",
    "dot.format = 'png'  # Choose format (e.g., 'png' or 'svg')\n",
    "dot.render(\"NN_archi/dqn_model_visualization\")  # Save the visualization as 'model_visualization.png'\n"
   ]
  },
  {
   "cell_type": "code",
   "execution_count": null,
   "metadata": {},
   "outputs": [],
   "source": []
  }
 ],
 "metadata": {
  "kernelspec": {
   "display_name": "base",
   "language": "python",
   "name": "python3"
  },
  "language_info": {
   "codemirror_mode": {
    "name": "ipython",
    "version": 3
   },
   "file_extension": ".py",
   "mimetype": "text/x-python",
   "name": "python",
   "nbconvert_exporter": "python",
   "pygments_lexer": "ipython3",
   "version": "3.9.12"
  }
 },
 "nbformat": 4,
 "nbformat_minor": 2
}
